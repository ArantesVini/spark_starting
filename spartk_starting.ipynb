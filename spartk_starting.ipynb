{
 "cells": [
  {
   "cell_type": "code",
   "execution_count": 1,
   "metadata": {},
   "outputs": [],
   "source": [
    "import os\n",
    "os.environ.get('JAVA_HOME')\n",
    "os.environ.get('SPARK_HOME')"
   ]
  },
  {
   "cell_type": "code",
   "execution_count": 2,
   "metadata": {},
   "outputs": [],
   "source": [
    "import findspark\n",
    "findspark.init()"
   ]
  },
  {
   "cell_type": "code",
   "execution_count": 3,
   "metadata": {},
   "outputs": [
    {
     "name": "stderr",
     "output_type": "stream",
     "text": [
      "23/06/14 20:20:27 WARN Utils: Your hostname, Viniciuss-MacBook-Air.local resolves to a loopback address: 127.0.0.1; using 172.16.0.149 instead (on interface en0)\n",
      "23/06/14 20:20:27 WARN Utils: Set SPARK_LOCAL_IP if you need to bind to another address\n",
      "Setting default log level to \"WARN\".\n",
      "To adjust logging level use sc.setLogLevel(newLevel). For SparkR, use setLogLevel(newLevel).\n",
      "23/06/14 20:20:28 WARN NativeCodeLoader: Unable to load native-hadoop library for your platform... using builtin-java classes where applicable\n"
     ]
    }
   ],
   "source": [
    "from pyspark.sql import SparkSession\n",
    "\n",
    "spark = SparkSession.builder \\\n",
    "    .master('local[*]') \\\n",
    "    .appName(\"Starting with Spark\") \\\n",
    "    .config('spark.ui.port', '4050') \\\n",
    "    .getOrCreate()"
   ]
  },
  {
   "cell_type": "code",
   "execution_count": 4,
   "metadata": {},
   "outputs": [
    {
     "data": {
      "text/html": [
       "\n",
       "            <div>\n",
       "                <p><b>SparkSession - in-memory</b></p>\n",
       "                \n",
       "        <div>\n",
       "            <p><b>SparkContext</b></p>\n",
       "\n",
       "            <p><a href=\"http://172.16.0.149:4050\">Spark UI</a></p>\n",
       "\n",
       "            <dl>\n",
       "              <dt>Version</dt>\n",
       "                <dd><code>v3.4.0</code></dd>\n",
       "              <dt>Master</dt>\n",
       "                <dd><code>local[*]</code></dd>\n",
       "              <dt>AppName</dt>\n",
       "                <dd><code>Starting with Spark</code></dd>\n",
       "            </dl>\n",
       "        </div>\n",
       "        \n",
       "            </div>\n",
       "        "
      ],
      "text/plain": [
       "<pyspark.sql.session.SparkSession at 0x10514d790>"
      ]
     },
     "execution_count": 4,
     "metadata": {},
     "output_type": "execute_result"
    }
   ],
   "source": [
    "spark"
   ]
  },
  {
   "cell_type": "code",
   "execution_count": 5,
   "metadata": {},
   "outputs": [
    {
     "name": "stderr",
     "output_type": "stream",
     "text": [
      "                                                                                \r"
     ]
    },
    {
     "name": "stdout",
     "output_type": "stream",
     "text": [
      "+----+---+\n",
      "|name|age|\n",
      "+----+---+\n",
      "|Will| 23|\n",
      "|Bill| 32|\n",
      "+----+---+\n",
      "\n"
     ]
    }
   ],
   "source": [
    "## Simple example, how to create a Spark DataFrame\n",
    "\n",
    "data = [('Will', '23'), ('Bill', '32')]\n",
    "colNames = ['name', 'age']\n",
    "df = spark.createDataFrame(data, colNames)\n",
    "df.show()"
   ]
  },
  {
   "cell_type": "code",
   "execution_count": 6,
   "metadata": {},
   "outputs": [
    {
     "name": "stderr",
     "output_type": "stream",
     "text": [
      "                                                                                \r"
     ]
    }
   ],
   "source": [
    "# Using the Brazil Receita Federal data about business registration number (CNPJ);\n",
    "\n",
    "business = spark.read.csv('data/empresas/', sep=';', inferSchema=True)\n",
    "\n",
    "business_col_names = ['root_cnpj', 'company_legal_name', 'legal_nature', 'responsible_qualification', \\\n",
    "    'company_share_capital', 'business_size', 'federative_entity_responsible']\n",
    "\n",
    "for index, col_name in enumerate(business_col_names):\n",
    "    business = business.withColumnRenamed(f\"_c{index}\", col_name)"
   ]
  },
  {
   "cell_type": "code",
   "execution_count": 7,
   "metadata": {},
   "outputs": [
    {
     "name": "stderr",
     "output_type": "stream",
     "text": [
      "                                                                                \r"
     ]
    }
   ],
   "source": [
    "establishments = spark.read.csv('data/estabelecimentos/', sep=';', inferSchema=True)\n",
    "\n",
    "estab_col_names = ['root_cnpj', 'order_cnpj', 'cnpj_dv', 'id_hq_or_branch', 'company_fantasy_name',\\\n",
    "    'registration_status', 'date_registration_status', 'reason_registration_status', 'city_outside_name',\\\n",
    "        'country', 'activity_start_date', 'main_cnae', 'secundary_cnae',\\\n",
    "            'street_type', 'street', 'number', 'complement', 'neighborhood', 'zip_code', 'state_code', \\\n",
    "                'city', 'ddd_1', 'phone_1', 'ddd_2', 'phone_2', 'ddd_fax', 'fax', \\\n",
    "                    'email', 'special_situation', 'date_special_situation']\n",
    "\n",
    "for index, col_name in enumerate(estab_col_names):\n",
    "    establishments = establishments.withColumnRenamed(f\"_c{index}\", col_name)"
   ]
  },
  {
   "cell_type": "code",
   "execution_count": 8,
   "metadata": {},
   "outputs": [
    {
     "name": "stderr",
     "output_type": "stream",
     "text": [
      "                                                                                \r"
     ]
    }
   ],
   "source": [
    "partners = spark.read.csv('data/socios/', sep=';', inferSchema=True)\n",
    "\n",
    "partners_col_names = ['root_cnpj', 'partner_id', 'partner_name_or_legal_name', \\\n",
    "    'cnpj_cpf_partner', 'partner_qualification', 'entry_date_partnership', 'country', 'legal_representative',\\\n",
    "        'representative_name', 'legal_representative_qualification', 'age_group']\n",
    "\n",
    "for index, col_name in enumerate(partners_col_names):\n",
    "    partners = partners.withColumnRenamed(f\"_c{index}\", col_name)"
   ]
  },
  {
   "cell_type": "code",
   "execution_count": 9,
   "metadata": {},
   "outputs": [
    {
     "name": "stdout",
     "output_type": "stream",
     "text": [
      "root\n",
      " |-- root_cnpj: integer (nullable = true)\n",
      " |-- company_legal_name: string (nullable = true)\n",
      " |-- legal_nature: integer (nullable = true)\n",
      " |-- responsible_qualification: integer (nullable = true)\n",
      " |-- company_share_capital: string (nullable = true)\n",
      " |-- business_size: integer (nullable = true)\n",
      " |-- federative_entity_responsible: string (nullable = true)\n",
      "\n"
     ]
    }
   ],
   "source": [
    "business.printSchema()"
   ]
  },
  {
   "cell_type": "code",
   "execution_count": 10,
   "metadata": {},
   "outputs": [
    {
     "name": "stdout",
     "output_type": "stream",
     "text": [
      "root\n",
      " |-- root_cnpj: integer (nullable = true)\n",
      " |-- partner_id: integer (nullable = true)\n",
      " |-- partner_name_or_legal_name: string (nullable = true)\n",
      " |-- cnpj_cpf_partner: string (nullable = true)\n",
      " |-- partner_qualification: integer (nullable = true)\n",
      " |-- entry_date_partnership: integer (nullable = true)\n",
      " |-- country: integer (nullable = true)\n",
      " |-- legal_representative: string (nullable = true)\n",
      " |-- representative_name: string (nullable = true)\n",
      " |-- legal_representative_qualification: integer (nullable = true)\n",
      " |-- age_group: integer (nullable = true)\n",
      "\n"
     ]
    }
   ],
   "source": [
    "partners.printSchema()"
   ]
  },
  {
   "cell_type": "code",
   "execution_count": 11,
   "metadata": {},
   "outputs": [
    {
     "name": "stdout",
     "output_type": "stream",
     "text": [
      "root\n",
      " |-- root_cnpj: integer (nullable = true)\n",
      " |-- order_cnpj: integer (nullable = true)\n",
      " |-- cnpj_dv: integer (nullable = true)\n",
      " |-- id_hq_or_branch: integer (nullable = true)\n",
      " |-- company_fantasy_name: string (nullable = true)\n",
      " |-- registration_status: integer (nullable = true)\n",
      " |-- date_registration_status: integer (nullable = true)\n",
      " |-- reason_registration_status: integer (nullable = true)\n",
      " |-- city_outside_name: string (nullable = true)\n",
      " |-- country: integer (nullable = true)\n",
      " |-- activity_start_date: integer (nullable = true)\n",
      " |-- main_cnae: integer (nullable = true)\n",
      " |-- secundary_cnae: string (nullable = true)\n",
      " |-- street_type: string (nullable = true)\n",
      " |-- street: string (nullable = true)\n",
      " |-- number: string (nullable = true)\n",
      " |-- complement: string (nullable = true)\n",
      " |-- neighborhood: string (nullable = true)\n",
      " |-- zip_code: integer (nullable = true)\n",
      " |-- state_code: string (nullable = true)\n",
      " |-- city: integer (nullable = true)\n",
      " |-- ddd_1: string (nullable = true)\n",
      " |-- phone_1: string (nullable = true)\n",
      " |-- ddd_2: string (nullable = true)\n",
      " |-- phone_2: string (nullable = true)\n",
      " |-- ddd_fax: integer (nullable = true)\n",
      " |-- fax: string (nullable = true)\n",
      " |-- email: string (nullable = true)\n",
      " |-- special_situation: string (nullable = true)\n",
      " |-- date_special_situation: integer (nullable = true)\n",
      "\n"
     ]
    }
   ],
   "source": [
    "establishments.printSchema()"
   ]
  },
  {
   "cell_type": "code",
   "execution_count": 12,
   "metadata": {},
   "outputs": [],
   "source": [
    "# Converting string to double type into the company_share_capital capital into business dataset\n",
    "\n",
    "from pyspark.sql.types import DoubleType, StringType\n",
    "from pyspark.sql import functions as f\n",
    "\n",
    "business = business.withColumn('company_share_capital', f.regexp_replace('company_share_capital', ',', '.'))\n",
    "business = business.withColumn('company_share_capital', business['company_share_capital'].cast(DoubleType()))"
   ]
  },
  {
   "cell_type": "code",
   "execution_count": 13,
   "metadata": {},
   "outputs": [],
   "source": [
    "# Converting date columns in the establishments DataFrame to date type\n",
    "\n",
    "establishments = establishments\\\n",
    "    .withColumn('date_registration_status',\\\n",
    "        f.to_date(establishments.date_registration_status.cast(StringType()), 'yyyyMMdd'))\\\n",
    "    .withColumn('activity_start_date',\\\n",
    "        f.to_date(establishments.activity_start_date.cast(StringType()), 'yyyyMMdd'))\\\n",
    "    .withColumn('date_special_situation',\\\n",
    "        f.to_date(establishments.date_special_situation.cast(StringType()), 'yyyyMMdd'))\n"
   ]
  },
  {
   "cell_type": "code",
   "execution_count": 14,
   "metadata": {},
   "outputs": [],
   "source": [
    "# Converting date columns in the partners DataFrame to date type\n",
    "\n",
    "partners = partners\\\n",
    "    .withColumn('entry_date_partnership',\\\n",
    "        f.to_date(partners.entry_date_partnership.cast(StringType()), 'yyyyMMdd'))"
   ]
  },
  {
   "cell_type": "code",
   "execution_count": 15,
   "metadata": {},
   "outputs": [
    {
     "name": "stderr",
     "output_type": "stream",
     "text": [
      "[Stage 9:>                                                          (0 + 1) / 1]\r"
     ]
    },
    {
     "name": "stdout",
     "output_type": "stream",
     "text": [
      "+---------+-----------------------------------------------------------------+------------+---------------------+-------------+\n",
      "|root_cnpj|company_legal_name                                               |legal_nature|company_share_capital|business_size|\n",
      "+---------+-----------------------------------------------------------------+------------+---------------------+-------------+\n",
      "|6352117  |REBOUCAS E CIA LTDA.                                             |2062        |2.9202702116E10      |3            |\n",
      "|21199157 |TECHNO-CELLS INDUSTRIA DE SEMICONDUTORES SOLARES ES LTDA.        |2062        |3.0159349E9          |5            |\n",
      "|34298743 |TVGD HOLDING LTDA                                                |2240        |1.0E10               |5            |\n",
      "|9203283  |GILDASIO FERNANDES FONSECA                                       |2135        |5.2102967809E10      |1            |\n",
      "|8842690  |ATVOS AGROINDUSTRIAL PARTICIPACOES S.A. - EM RECUPERACAO JUDICIAL|2054        |8.19789190757E9      |5            |\n",
      "+---------+-----------------------------------------------------------------+------------+---------------------+-------------+\n",
      "only showing top 5 rows\n",
      "\n"
     ]
    },
    {
     "name": "stderr",
     "output_type": "stream",
     "text": [
      "                                                                                \r"
     ]
    }
   ],
   "source": [
    "# Query the business dataset\n",
    "\n",
    "business.select('root_cnpj', 'company_legal_name', 'legal_nature', 'company_share_capital', 'business_size')\\\n",
    "    .filter(business.company_share_capital > 1000000000)\\\n",
    "    .show(5, False)"
   ]
  },
  {
   "cell_type": "code",
   "execution_count": 17,
   "metadata": {},
   "outputs": [
    {
     "name": "stdout",
     "output_type": "stream",
     "text": [
      "+-------------------------------+----------------------+---------------------------+\n",
      "|partner_name_or_legal_name     |entry_date_partnership|year_entry_date_partnership|\n",
      "+-------------------------------+----------------------+---------------------------+\n",
      "|LILIANA PATRICIA GUASTAVINO    |1994-07-25            |1994                       |\n",
      "|CRISTINA HUNDERTMARK           |1994-07-25            |1994                       |\n",
      "|CELSO EDUARDO DE CASTRO STEPHAN|1994-05-16            |1994                       |\n",
      "|EDUARDO BERRINGER STEPHAN      |1994-05-16            |1994                       |\n",
      "|HANNE MAHFOUD FADEL            |1994-06-09            |1994                       |\n",
      "+-------------------------------+----------------------+---------------------------+\n",
      "only showing top 5 rows\n",
      "\n"
     ]
    }
   ],
   "source": [
    "partners\\\n",
    "    .select('partner_name_or_legal_name', 'entry_date_partnership', f.year('entry_date_partnership').alias('year_entry_date_partnership'))\\\n",
    "        .show(5, False)"
   ]
  },
  {
   "cell_type": "code",
   "execution_count": 22,
   "metadata": {},
   "outputs": [
    {
     "name": "stdout",
     "output_type": "stream",
     "text": [
      "+--------------------+----+------------------------+-----------------------------+\n",
      "|company_fantasy_name|city|year_activity_start_date|year_date_registration_status|\n",
      "+--------------------+----+------------------------+-----------------------------+\n",
      "|PIRAMIDE M. C.      |7107|1994                    |2001                         |\n",
      "|null                |7107|1994                    |2008                         |\n",
      "|null                |7107|1994                    |1997                         |\n",
      "|null                |7107|1994                    |2008                         |\n",
      "|EMBROIDERY & GIFT   |7075|1995                    |1998                         |\n",
      "+--------------------+----+------------------------+-----------------------------+\n",
      "only showing top 5 rows\n",
      "\n"
     ]
    }
   ],
   "source": [
    "establishments\\\n",
    "    .select('company_fantasy_name', 'city', f.year('activity_start_date').alias('year_activity_start_date'),\\\n",
    "    f.year('date_registration_status').alias('year_date_registration_status'))\\\n",
    "        .show(5, False)"
   ]
  },
  {
   "cell_type": "code",
   "execution_count": 23,
   "metadata": {},
   "outputs": [
    {
     "name": "stderr",
     "output_type": "stream",
     "text": [
      "[Stage 12:=============================================>           (8 + 2) / 10]\r"
     ]
    },
    {
     "name": "stdout",
     "output_type": "stream",
     "text": [
      "+---------+----------+--------------------------+----------------+---------------------+----------------------+-------+--------------------+-------------------+----------------------------------+---------+\n",
      "|root_cnpj|partner_id|partner_name_or_legal_name|cnpj_cpf_partner|partner_qualification|entry_date_partnership|country|legal_representative|representative_name|legal_representative_qualification|age_group|\n",
      "+---------+----------+--------------------------+----------------+---------------------+----------------------+-------+--------------------+-------------------+----------------------------------+---------+\n",
      "|        0|         0|                       208|            1234|                    0|                     1|2038255|                   0|            1995432|                                 0|        0|\n",
      "+---------+----------+--------------------------+----------------+---------------------+----------------------+-------+--------------------+-------------------+----------------------------------+---------+\n",
      "\n"
     ]
    },
    {
     "name": "stderr",
     "output_type": "stream",
     "text": [
      "                                                                                \r"
     ]
    }
   ],
   "source": [
    "# Searching for Null values in the partners dataset\n",
    "\n",
    "partners\\\n",
    "    .select([f.count(f.when(f.isnull(c), 1)).alias(c) \\\n",
    "        for c in partners.columns])\\\n",
    "    .show()"
   ]
  },
  {
   "cell_type": "code",
   "execution_count": 24,
   "metadata": {},
   "outputs": [
    {
     "name": "stderr",
     "output_type": "stream",
     "text": [
      "[Stage 15:=============================================>           (8 + 2) / 10]\r"
     ]
    },
    {
     "name": "stdout",
     "output_type": "stream",
     "text": [
      "+---------+------------------+------------+-------------------------+---------------------+-------------+-----------------------------+\n",
      "|root_cnpj|company_legal_name|legal_nature|responsible_qualification|company_share_capital|business_size|federative_entity_responsible|\n",
      "+---------+------------------+------------+-------------------------+---------------------+-------------+-----------------------------+\n",
      "|        0|                 0|           0|                        0|                    0|         5985|                      4579678|\n",
      "+---------+------------------+------------+-------------------------+---------------------+-------------+-----------------------------+\n",
      "\n"
     ]
    },
    {
     "name": "stderr",
     "output_type": "stream",
     "text": [
      "                                                                                \r"
     ]
    }
   ],
   "source": [
    "business\\\n",
    "    .select([f.count(f.when(f.isnull(c), 1)).alias(c) \\\n",
    "        for c in business.columns])\\\n",
    "    .show()"
   ]
  },
  {
   "cell_type": "code",
   "execution_count": 25,
   "metadata": {},
   "outputs": [
    {
     "name": "stderr",
     "output_type": "stream",
     "text": [
      "23/06/14 20:54:09 WARN package: Truncated the string representation of a plan since it was too large. This behavior can be adjusted by setting 'spark.sql.debug.maxToStringFields'.\n",
      "[Stage 18:=============================================>           (8 + 2) / 10]\r"
     ]
    },
    {
     "name": "stdout",
     "output_type": "stream",
     "text": [
      "+---------+----------+-------+---------------+--------------------+-------------------+------------------------+--------------------------+-----------------+-------+-------------------+---------+--------------+-----------+------+------+----------+------------+--------+----------+----+-------+-------+-------+-------+-------+-------+-------+-----------------+----------------------+\n",
      "|root_cnpj|order_cnpj|cnpj_dv|id_hq_or_branch|company_fantasy_name|registration_status|date_registration_status|reason_registration_status|city_outside_name|country|activity_start_date|main_cnae|secundary_cnae|street_type|street|number|complement|neighborhood|zip_code|state_code|city|  ddd_1|phone_1|  ddd_2|phone_2|ddd_fax|    fax|  email|special_situation|date_special_situation|\n",
      "+---------+----------+-------+---------------+--------------------+-------------------+------------------------+--------------------------+-----------------+-------+-------------------+---------+--------------+-----------+------+------+----------+------------+--------+----------+----+-------+-------+-------+-------+-------+-------+-------+-----------------+----------------------+\n",
      "|        0|         0|      0|              0|             2014706|                  0|                   16195|                         0|          4833519|4823786|                  1|        0|       2780434|      91499|   193|     0|   2831800|       37964|   15033|         0|   0|1251627|1251623|4424413|4425166|4132454|4131990|2304672|          4836208|               4836208|\n",
      "+---------+----------+-------+---------------+--------------------+-------------------+------------------------+--------------------------+-----------------+-------+-------------------+---------+--------------+-----------+------+------+----------+------------+--------+----------+----+-------+-------+-------+-------+-------+-------+-------+-----------------+----------------------+\n",
      "\n"
     ]
    },
    {
     "name": "stderr",
     "output_type": "stream",
     "text": [
      "                                                                                \r"
     ]
    }
   ],
   "source": [
    "establishments\\\n",
    "    .select([f.count(f.when(f.isnull(c), 1)).alias(c) \\\n",
    "        for c in establishments.columns])\\\n",
    "    .show()"
   ]
  },
  {
   "cell_type": "code",
   "execution_count": 34,
   "metadata": {},
   "outputs": [
    {
     "name": "stderr",
     "output_type": "stream",
     "text": [
      "[Stage 24:=======================================>                 (7 + 3) / 10]\r"
     ]
    },
    {
     "name": "stdout",
     "output_type": "stream",
     "text": [
      "+-------------------------------+----------------------+---------------------------+\n",
      "|partner_name_or_legal_name     |entry_date_partnership|year_entry_date_partnership|\n",
      "+-------------------------------+----------------------+---------------------------+\n",
      "|JOAO FRANCISCO DE AMORIM JUNCAL|null                  |null                       |\n",
      "|NAIR YOKO HIRAI TAKAKI         |1900-01-01            |1900                       |\n",
      "|MARIA SILENE BEZERRA DE AGUIAR |1900-01-01            |1900                       |\n",
      "|VALMAR CARDOSO DE SANTANA      |1901-01-01            |1901                       |\n",
      "|JOSE NELSON VIEIRA CAMPOS      |1901-01-01            |1901                       |\n",
      "+-------------------------------+----------------------+---------------------------+\n",
      "only showing top 5 rows\n",
      "\n"
     ]
    },
    {
     "name": "stderr",
     "output_type": "stream",
     "text": [
      "                                                                                \r"
     ]
    }
   ],
   "source": [
    "partners\\\n",
    "    .select('partner_name_or_legal_name', 'entry_date_partnership',\\\n",
    "        f.year('entry_date_partnership').alias('year_entry_date_partnership'))\\\n",
    "            .orderBy(['year_entry_date_partnership', 'age_group'], ascending=True)\\\n",
    "                .show(5, False)"
   ]
  },
  {
   "cell_type": "code",
   "execution_count": 36,
   "metadata": {},
   "outputs": [
    {
     "name": "stderr",
     "output_type": "stream",
     "text": [
      "[Stage 26:=============================================>           (8 + 2) / 10]\r"
     ]
    },
    {
     "name": "stdout",
     "output_type": "stream",
     "text": [
      "+------------------------------------------+------------+---------------------+-------------+\n",
      "|company_legal_name                        |legal_nature|company_share_capital|business_size|\n",
      "+------------------------------------------+------------+---------------------+-------------+\n",
      "|MC FERNANDES REPRESENTACAO E COMERCIO LTDA|2062        |0.0                  |5            |\n",
      "|VANDERLEI FERREIRA MACHADO                |2135        |0.0                  |5            |\n",
      "|LAR DOS IDOSOS ASTROGILDO RIBEIRO         |3999        |0.0                  |5            |\n",
      "|ACOTRYLL COMERCIO DE ACO E METAIS LTDA    |2062        |0.0                  |5            |\n",
      "|GISELA SPROVIERI                          |2135        |0.0                  |5            |\n",
      "+------------------------------------------+------------+---------------------+-------------+\n",
      "only showing top 5 rows\n",
      "\n"
     ]
    },
    {
     "name": "stderr",
     "output_type": "stream",
     "text": [
      "                                                                                \r"
     ]
    }
   ],
   "source": [
    "business\\\n",
    "    .select('company_legal_name', 'legal_nature', 'company_share_capital', 'business_size')\\\n",
    "        .filter(business.company_share_capital < 100)\\\n",
    "            .orderBy('company_share_capital', ascending=True)\\\n",
    "                .show(5, False)"
   ]
  },
  {
   "cell_type": "code",
   "execution_count": 38,
   "metadata": {},
   "outputs": [
    {
     "name": "stdout",
     "output_type": "stream",
     "text": [
      "+-------------------------------------+----------------------+\n",
      "|partner_name_or_legal_name           |entry_date_partnership|\n",
      "+-------------------------------------+----------------------+\n",
      "|ANTONIO PADUA ARANTES                |2021-05-11            |\n",
      "|NATACHA BARZAN ARANTES               |2021-04-30            |\n",
      "|MARCELO FABIANO ARANTES GARCIA MORENO|2021-04-29            |\n",
      "|THIAGO ARANTES                       |2021-04-26            |\n",
      "|CLODOALDO DOS SANTOS ARANTES         |2021-04-26            |\n",
      "+-------------------------------------+----------------------+\n",
      "only showing top 5 rows\n",
      "\n"
     ]
    },
    {
     "name": "stderr",
     "output_type": "stream",
     "text": [
      "                                                                                \r"
     ]
    }
   ],
   "source": [
    "partners\\\n",
    "    .select('partner_name_or_legal_name', 'entry_date_partnership')\\\n",
    "        .filter(partners.partner_name_or_legal_name.contains('ARANTES'))\\\n",
    "            .orderBy('entry_date_partnership', ascending=False)\\\n",
    "                .show(5, False)"
   ]
  },
  {
   "cell_type": "code",
   "execution_count": 42,
   "metadata": {},
   "outputs": [
    {
     "name": "stdout",
     "output_type": "stream",
     "text": [
      "+-------------------------------+----------------------+\n",
      "|partner_name_or_legal_name     |entry_date_partnership|\n",
      "+-------------------------------+----------------------+\n",
      "|LUCIANO ARANTES BARROS         |1998-07-28            |\n",
      "|FABIANA ARANTES QUEIROS        |1997-12-08            |\n",
      "|LUCIANO LANA ARANTES           |2000-11-21            |\n",
      "|CLEONICE MARIA ARANTES DE CICCO|2006-08-30            |\n",
      "|ROBERTO ARANTES                |2006-12-23            |\n",
      "+-------------------------------+----------------------+\n",
      "only showing top 5 rows\n",
      "\n"
     ]
    }
   ],
   "source": [
    "partners\\\n",
    "    .select('partner_name_or_legal_name', 'entry_date_partnership')\\\n",
    "        .where(f.upper(partners.partner_name_or_legal_name).like('%ARANTES%'))\\\n",
    "            .show(5, False)"
   ]
  },
  {
   "cell_type": "code",
   "execution_count": null,
   "metadata": {},
   "outputs": [],
   "source": []
  }
 ],
 "metadata": {
  "kernelspec": {
   "display_name": "Python 3",
   "language": "python",
   "name": "python3"
  },
  "language_info": {
   "codemirror_mode": {
    "name": "ipython",
    "version": 3
   },
   "file_extension": ".py",
   "mimetype": "text/x-python",
   "name": "python",
   "nbconvert_exporter": "python",
   "pygments_lexer": "ipython3",
   "version": "3.11.3"
  },
  "orig_nbformat": 4
 },
 "nbformat": 4,
 "nbformat_minor": 2
}
