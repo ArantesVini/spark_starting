{
 "cells": [
  {
   "cell_type": "code",
   "execution_count": 1,
   "metadata": {},
   "outputs": [],
   "source": [
    "import os\n",
    "os.environ.get('JAVA_HOME')\n",
    "os.environ.get('SPARK_HOME')"
   ]
  },
  {
   "cell_type": "code",
   "execution_count": 2,
   "metadata": {},
   "outputs": [],
   "source": [
    "import findspark\n",
    "findspark.init()"
   ]
  },
  {
   "cell_type": "code",
   "execution_count": 3,
   "metadata": {},
   "outputs": [
    {
     "name": "stderr",
     "output_type": "stream",
     "text": [
      "23/06/13 08:55:14 WARN Utils: Your hostname, Viniciuss-MacBook-Air.local resolves to a loopback address: 127.0.0.1; using 172.16.0.149 instead (on interface en0)\n",
      "23/06/13 08:55:14 WARN Utils: Set SPARK_LOCAL_IP if you need to bind to another address\n",
      "Setting default log level to \"WARN\".\n",
      "To adjust logging level use sc.setLogLevel(newLevel). For SparkR, use setLogLevel(newLevel).\n",
      "23/06/13 08:55:14 WARN NativeCodeLoader: Unable to load native-hadoop library for your platform... using builtin-java classes where applicable\n"
     ]
    }
   ],
   "source": [
    "from pyspark.sql import SparkSession\n",
    "\n",
    "spark = SparkSession.builder \\\n",
    "    .master('local[*]') \\\n",
    "    .appName(\"Starting with Spark\") \\\n",
    "    .config('spark.ui.port', '4050') \\\n",
    "    .getOrCreate()"
   ]
  },
  {
   "cell_type": "code",
   "execution_count": 4,
   "metadata": {},
   "outputs": [
    {
     "data": {
      "text/html": [
       "\n",
       "            <div>\n",
       "                <p><b>SparkSession - in-memory</b></p>\n",
       "                \n",
       "        <div>\n",
       "            <p><b>SparkContext</b></p>\n",
       "\n",
       "            <p><a href=\"http://172.16.0.149:4050\">Spark UI</a></p>\n",
       "\n",
       "            <dl>\n",
       "              <dt>Version</dt>\n",
       "                <dd><code>v3.4.0</code></dd>\n",
       "              <dt>Master</dt>\n",
       "                <dd><code>local[*]</code></dd>\n",
       "              <dt>AppName</dt>\n",
       "                <dd><code>Starting with Spark</code></dd>\n",
       "            </dl>\n",
       "        </div>\n",
       "        \n",
       "            </div>\n",
       "        "
      ],
      "text/plain": [
       "<pyspark.sql.session.SparkSession at 0x1062e34d0>"
      ]
     },
     "execution_count": 4,
     "metadata": {},
     "output_type": "execute_result"
    }
   ],
   "source": [
    "spark"
   ]
  },
  {
   "cell_type": "code",
   "execution_count": 5,
   "metadata": {},
   "outputs": [
    {
     "name": "stderr",
     "output_type": "stream",
     "text": [
      "                                                                                \r"
     ]
    },
    {
     "name": "stdout",
     "output_type": "stream",
     "text": [
      "+----+---+\n",
      "|name|age|\n",
      "+----+---+\n",
      "|Will| 23|\n",
      "|Bill| 32|\n",
      "+----+---+\n",
      "\n"
     ]
    }
   ],
   "source": [
    "## Simple example, how to create a Spark DataFrame\n",
    "\n",
    "data = [('Will', '23'), ('Bill', '32')]\n",
    "colNames = ['name', 'age']\n",
    "df = spark.createDataFrame(data, colNames)\n",
    "df.show()"
   ]
  },
  {
   "cell_type": "code",
   "execution_count": 37,
   "metadata": {},
   "outputs": [
    {
     "name": "stderr",
     "output_type": "stream",
     "text": [
      "                                                                                \r"
     ]
    }
   ],
   "source": [
    "# Using the Brazil Receita Federal data about business registration number (CNPJ);\n",
    "\n",
    "business = spark.read.csv('data/empresas/', sep=';', inferSchema=True)\n",
    "\n",
    "business_col_names = ['root_cnpj', 'company_legal_name', 'legal_nature', 'responsible_qualification', \\\n",
    "    'company_share_capital', 'business_size', 'federative_entity_responsible']\n",
    "\n",
    "for index, col_name in enumerate(business_col_names):\n",
    "    business = business.withColumnRenamed(f\"_c{index}\", col_name)"
   ]
  },
  {
   "cell_type": "code",
   "execution_count": 38,
   "metadata": {},
   "outputs": [
    {
     "name": "stderr",
     "output_type": "stream",
     "text": [
      "                                                                                \r"
     ]
    }
   ],
   "source": [
    "establishments = spark.read.csv('data/estabelecimentos/', sep=';', inferSchema=True)\n",
    "\n",
    "estab_col_names = ['root_cnpj', 'order_cnpj', 'cnpj_dv', 'id_hq_or_branch', 'company_fantasy_name',\\\n",
    "    'registration_status', 'date_registration_status', 'reason_registration_status', 'city_outside_name',\\\n",
    "        'country', 'activity_start_date', 'main_cnae', 'secundary_cnae',\\\n",
    "            'street_type', 'street', 'number', 'complement', 'neighborhood', 'zip_code', 'state_code', \\\n",
    "                'city', 'ddd_1', 'phone_1', 'ddd_2', 'phone_2', 'ddd_fax', 'fax', \\\n",
    "                    'email', 'special_situation', 'date_special_situation']\n",
    "\n",
    "for index, col_name in enumerate(estab_col_names):\n",
    "    establishments = establishments.withColumnRenamed(f\"_c{index}\", col_name)"
   ]
  },
  {
   "cell_type": "code",
   "execution_count": 39,
   "metadata": {},
   "outputs": [
    {
     "name": "stderr",
     "output_type": "stream",
     "text": [
      "                                                                                \r"
     ]
    }
   ],
   "source": [
    "partners = spark.read.csv('data/socios/', sep=';', inferSchema=True)\n",
    "\n",
    "partners_col_names = ['root_cnpj', 'partner_id', 'partner_name_or_legal_name', \\\n",
    "    'cnpj_cpf_partner', 'partner_qualificstion', 'entry_date_partnership', 'country', 'legal_representative',\\\n",
    "        'representative_name', 'legal_representative_qualification', 'age_group']\n",
    "\n",
    "for index, col_name in enumerate(partners_col_names):\n",
    "    partners = partners.withColumnRenamed(f\"_c{index}\", col_name)"
   ]
  },
  {
   "cell_type": "code",
   "execution_count": 41,
   "metadata": {},
   "outputs": [
    {
     "name": "stdout",
     "output_type": "stream",
     "text": [
      "root\n",
      " |-- root_cnpj: integer (nullable = true)\n",
      " |-- company_legal_name: string (nullable = true)\n",
      " |-- legal_nature: integer (nullable = true)\n",
      " |-- responsible_qualification: integer (nullable = true)\n",
      " |-- company_share_capital: string (nullable = true)\n",
      " |-- business_size: integer (nullable = true)\n",
      " |-- federative_entity_responsible: string (nullable = true)\n",
      "\n"
     ]
    }
   ],
   "source": [
    "business.printSchema()"
   ]
  },
  {
   "cell_type": "code",
   "execution_count": 42,
   "metadata": {},
   "outputs": [
    {
     "name": "stdout",
     "output_type": "stream",
     "text": [
      "root\n",
      " |-- root_cnpj: integer (nullable = true)\n",
      " |-- partner_id: integer (nullable = true)\n",
      " |-- partner_name_or_legal_name: string (nullable = true)\n",
      " |-- cnpj_cpf_partner: string (nullable = true)\n",
      " |-- partner_qualificstion: integer (nullable = true)\n",
      " |-- entry_date_partnership: integer (nullable = true)\n",
      " |-- country: integer (nullable = true)\n",
      " |-- legal_representative: string (nullable = true)\n",
      " |-- representative_name: string (nullable = true)\n",
      " |-- legal_representative_qualification: integer (nullable = true)\n",
      " |-- age_group: integer (nullable = true)\n",
      "\n"
     ]
    }
   ],
   "source": [
    "partners.printSchema()"
   ]
  },
  {
   "cell_type": "code",
   "execution_count": 43,
   "metadata": {},
   "outputs": [
    {
     "name": "stdout",
     "output_type": "stream",
     "text": [
      "root\n",
      " |-- root_cnpj: integer (nullable = true)\n",
      " |-- order_cnpj: integer (nullable = true)\n",
      " |-- cnpj_dv: integer (nullable = true)\n",
      " |-- id_hq_or_branch: integer (nullable = true)\n",
      " |-- company_fantasy_name: string (nullable = true)\n",
      " |-- registration_status: integer (nullable = true)\n",
      " |-- date_registration_status: integer (nullable = true)\n",
      " |-- reason_registration_status: integer (nullable = true)\n",
      " |-- city_outside_name: string (nullable = true)\n",
      " |-- country: integer (nullable = true)\n",
      " |-- activity_start_date: integer (nullable = true)\n",
      " |-- main_cnae: integer (nullable = true)\n",
      " |-- secundary_cnae: string (nullable = true)\n",
      " |-- street_type: string (nullable = true)\n",
      " |-- street: string (nullable = true)\n",
      " |-- number: string (nullable = true)\n",
      " |-- complement: string (nullable = true)\n",
      " |-- neighborhood: string (nullable = true)\n",
      " |-- zip_code: integer (nullable = true)\n",
      " |-- state_code: string (nullable = true)\n",
      " |-- city: integer (nullable = true)\n",
      " |-- ddd_1: string (nullable = true)\n",
      " |-- phone_1: string (nullable = true)\n",
      " |-- ddd_2: string (nullable = true)\n",
      " |-- phone_2: string (nullable = true)\n",
      " |-- ddd_fax: integer (nullable = true)\n",
      " |-- fax: string (nullable = true)\n",
      " |-- email: string (nullable = true)\n",
      " |-- special_situation: string (nullable = true)\n",
      " |-- date_special_situation: integer (nullable = true)\n",
      "\n"
     ]
    }
   ],
   "source": [
    "establishments.printSchema()"
   ]
  },
  {
   "cell_type": "code",
   "execution_count": null,
   "metadata": {},
   "outputs": [],
   "source": [
    "# Converting string to double type into the company_share_capital capital into business dataset\n",
    "\n"
   ]
  }
 ],
 "metadata": {
  "kernelspec": {
   "display_name": "Python 3",
   "language": "python",
   "name": "python3"
  },
  "language_info": {
   "codemirror_mode": {
    "name": "ipython",
    "version": 3
   },
   "file_extension": ".py",
   "mimetype": "text/x-python",
   "name": "python",
   "nbconvert_exporter": "python",
   "pygments_lexer": "ipython3",
   "version": "3.11.3"
  },
  "orig_nbformat": 4
 },
 "nbformat": 4,
 "nbformat_minor": 2
}
